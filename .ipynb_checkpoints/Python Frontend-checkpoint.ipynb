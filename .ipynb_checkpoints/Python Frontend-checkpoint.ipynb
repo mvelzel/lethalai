{
 "cells": [
  {
   "cell_type": "code",
   "execution_count": 1,
   "id": "a6a27e2d",
   "metadata": {},
   "outputs": [],
   "source": [
    "from injector import Injector\n",
    "import struct"
   ]
  },
  {
   "cell_type": "code",
   "execution_count": 2,
   "id": "3661fc69",
   "metadata": {},
   "outputs": [],
   "source": [
    "injector = Injector()\n",
    "\n",
    "pid = 156732\n",
    "path_dll = \"C:\\\\Users\\\\Formadill\\\\Documents\\\\LethalAI\\\\build\\\\LethalAI.dll\"\n",
    "\n",
    "injector.load_from_pid(pid)\n",
    "\n",
    "dll_addr = injector.inject_dll(path_dll)"
   ]
  },
  {
   "cell_type": "code",
   "execution_count": 3,
   "id": "0db28a8e",
   "metadata": {},
   "outputs": [
    {
     "name": "stdout",
     "output_type": "stream",
     "text": [
      "b'TestFunction'\n"
     ]
    }
   ],
   "source": [
    "test = 5\n",
    "teststruct = struct.pack(\"I4f\", test, *([0.0] * 4))\n",
    "val = injector.call_from_injected(path_dll, dll_addr, \"TestFunction\", teststruct)"
   ]
  },
  {
   "cell_type": "code",
   "execution_count": 4,
   "id": "974fee81",
   "metadata": {},
   "outputs": [
    {
     "name": "stdout",
     "output_type": "stream",
     "text": [
      "b'\\x05\\x00\\x00\\x00\\x00\\x00\\x00\\x00\\x00\\x00\\x00\\x00\\x00\\x00\\x00\\x00\\x00\\x00\\x00\\x00'\n",
      "(5, 1.0, 2.5999999046325684, 2.200000047683716, 48.02299880981445)\n"
     ]
    }
   ],
   "source": [
    "print(teststruct)\n",
    "print(struct.unpack(\"I4f\", val))"
   ]
  },
  {
   "cell_type": "code",
   "execution_count": 3,
   "id": "4cf93f52",
   "metadata": {},
   "outputs": [
    {
     "data": {
      "text/plain": [
       "<ctypes.c_char_Array_1 at 0x1f78417d840>"
      ]
     },
     "execution_count": 3,
     "metadata": {},
     "output_type": "execute_result"
    }
   ],
   "source": [
    "injector.call_from_injected(path_dll, dll_addr, \"ExportInit\", b'c')"
   ]
  },
  {
   "cell_type": "code",
   "execution_count": 4,
   "id": "db88c398",
   "metadata": {},
   "outputs": [
    {
     "name": "stdout",
     "output_type": "stream",
     "text": [
      "(0.2467050999403, 0.8700209856033325, 1.0, 0.0, 0.0, 0.009900989942252636, 0.0, 1.0, 1.0, 0.0, 0.0, 0.0, 0.0, 0.0, 0.0, 0.0, 0.0, 0.0, 0.0, 0.0, 0.0, 0.0, 0.0, 0.0, 0.0, 0.0, 0.0, 0.0, 0.0, 0.0, 0.0, 0.0, 0.0, 0.0, 0.0, 0.0, 0.0, 0.0, 0.0, 0.0, 0.0, 0.0, 0.0, 0.0, 0.0, 0.0, 0.0, 0.0, 0.0, 0.0, 0.0, 0.0, 0.0, 0.0, 0.0, 0.0, 0.0, 0.0, 0.0, 0.0, 0.0, 0.0, 0.0, 0.0, 0.0, 0.0, 0.0, 0.0, 0.0, 0.0, 0.7532948851585388, 0.8700209856033325, 0.0, 0.0, 0.0, 0.009900989942252636, 0.0, 1.0, 1.0, 0.0, 0.0, 0.0, 0.0, 0.0, 0.0, 0.0, 0.0, 0.0, 0.0, 0.0, 0.0, 0.0, 0.0, 0.0, 0.0, 0.0, 0.0, 0.0, 0.0, 0.0, 0.0, 0.0, 0.0, 0.0, 0.0, 0.0, 0.0, 0.0, 0.0, 0.0, 0.0, 0.0, 0.0, 0.0, 0.0, 0.0, 0.0, 0.0, 0.0, 0.0, 0.0, 0.0, 0.0, 0.0, 0.0, 0.0, 0.0, 0.0, 0.0, 0.0, 0.0, 0.0, 0.0, 0.0, 0.0, 0.0, 0.0, 0.0, 0.0, 0.0, 0.0, 0.0, 0.0, 0.0, 0.0, 0.0, 0.0, 0.0, 0.0, 0.0, 0.0, 0.0, 0.0, 0.0, 0.0, 0.0, 0.0, 0.0, 0.0, 0.0, 0.0, 0.0, 0.0, 0.0, 0.0, 0.0, 0.0, 0.0, 0.0, 0.0, 0.0, 0.0, 0.0, 0.0, 0.0, 0.0, 0.0, 0.0, 0.0, 0.0, 0.0, 0.0, 0.0, 0.0, 0.0, 0.0, 0.0, 0.0, 0.0, 0.0, 0.0, 0.0, 0.0, 0.0, 0.0, 0.0, 0.0, 0.0, 0.0, 0.0, 0.0, 0.0, 0.0, 0.0, 0.0, 0.0, 0.0, 0.0, 0.0, 0.0, 0.0, 0.0, 0.0, 0.0, 0.0, 0.0, 0.0, 0.0, 0.0, 0.0, 0.0, 0.0, 0.0, 0.0, 0.0, 0.0, 0.0, 0.0, 0.0, 0.0, 0.0, 0.0, 0.0, 0.0, 0.0, 0.0, 0.0, 0.0, 0.0, 0.0, 0.0, 0.0, 0.0, 0.0, 0.0, 0.0, 0.0, 0.0, 0.0, 0.0, 0.0, 0.0, 0.0, 0.0, 0.0, 0.0, 0.0, 0.0, 0.0, 0.0, 0.0, 0.0, 0.0, 0.0, 0.0, 0.0, 0.0, 0.0, 0.0, 0.0, 0.0, 0.0, 0.0, 0.0, 0.0, 0.0, 0.0, 0.0, 0.0, 0.0, 0.5, 0.8280922174453735, 0.0, 0.0, 7.999999979801942e-06, 0.009900989942252636, 0.0, 0.0, 0.0, 0.0)\n"
     ]
    }
   ],
   "source": [
    "state = injector.call_from_injected(path_dll, dll_addr, \"ExportReset\", struct.pack(\"290f\", *([0.0] * 290)))\n",
    "print(struct.unpack(\"290f\", state))"
   ]
  },
  {
   "cell_type": "code",
   "execution_count": 10,
   "id": "3034395c",
   "metadata": {},
   "outputs": [
    {
     "ename": "OSError",
     "evalue": "[WinError 6] The handle is invalid.",
     "output_type": "error",
     "traceback": [
      "\u001b[1;31m---------------------------------------------------------------------------\u001b[0m",
      "\u001b[1;31mOSError\u001b[0m                                   Traceback (most recent call last)",
      "Input \u001b[1;32mIn [10]\u001b[0m, in \u001b[0;36m<cell line: 1>\u001b[1;34m()\u001b[0m\n\u001b[1;32m----> 1\u001b[0m state \u001b[38;5;241m=\u001b[39m \u001b[43minjector\u001b[49m\u001b[38;5;241;43m.\u001b[39;49m\u001b[43mcall_from_injected\u001b[49m\u001b[43m(\u001b[49m\u001b[43mpath_dll\u001b[49m\u001b[43m,\u001b[49m\u001b[43m \u001b[49m\u001b[43mdll_addr\u001b[49m\u001b[43m,\u001b[49m\u001b[43m \u001b[49m\u001b[38;5;124;43m\"\u001b[39;49m\u001b[38;5;124;43mExportStep\u001b[39;49m\u001b[38;5;124;43m\"\u001b[39;49m\u001b[43m,\u001b[49m\u001b[43m \u001b[49m\u001b[43mstruct\u001b[49m\u001b[38;5;241;43m.\u001b[39;49m\u001b[43mpack\u001b[49m\u001b[43m(\u001b[49m\u001b[38;5;124;43m\"\u001b[39;49m\u001b[38;5;124;43mI290ff?\u001b[39;49m\u001b[38;5;124;43m\"\u001b[39;49m\u001b[43m,\u001b[49m\u001b[43m \u001b[49m\u001b[38;5;241;43m6\u001b[39;49m\u001b[43m,\u001b[49m\u001b[43m \u001b[49m\u001b[38;5;241;43m*\u001b[39;49m\u001b[43m(\u001b[49m\u001b[43m[\u001b[49m\u001b[38;5;241;43m0.0\u001b[39;49m\u001b[43m]\u001b[49m\u001b[43m \u001b[49m\u001b[38;5;241;43m*\u001b[39;49m\u001b[43m \u001b[49m\u001b[38;5;241;43m290\u001b[39;49m\u001b[43m)\u001b[49m\u001b[43m,\u001b[49m\u001b[43m \u001b[49m\u001b[38;5;241;43m0.0\u001b[39;49m\u001b[43m,\u001b[49m\u001b[43m \u001b[49m\u001b[38;5;28;43;01mFalse\u001b[39;49;00m\u001b[43m)\u001b[49m\u001b[43m)\u001b[49m\n\u001b[0;32m      2\u001b[0m \u001b[38;5;28mprint\u001b[39m(struct\u001b[38;5;241m.\u001b[39munpack(\u001b[38;5;124m\"\u001b[39m\u001b[38;5;124mI290ff?\u001b[39m\u001b[38;5;124m\"\u001b[39m, state))\n",
      "File \u001b[1;32m~\\Documents\\LethalAI\\injector.py:147\u001b[0m, in \u001b[0;36mInjector.call_from_injected\u001b[1;34m(self, path, dll_addr, function, args)\u001b[0m\n\u001b[0;32m    145\u001b[0m \u001b[38;5;28;01mdef\u001b[39;00m \u001b[38;5;21mcall_from_injected\u001b[39m(\u001b[38;5;28mself\u001b[39m, path, dll_addr, function, args):\n\u001b[0;32m    146\u001b[0m     function_offset \u001b[38;5;241m=\u001b[39m \u001b[38;5;28mself\u001b[39m\u001b[38;5;241m.\u001b[39mget_offset_of_exported_function(path, function)\n\u001b[1;32m--> 147\u001b[0m     \u001b[38;5;28;01mreturn\u001b[39;00m \u001b[38;5;28;43mself\u001b[39;49m\u001b[38;5;241;43m.\u001b[39;49m\u001b[43mread_remote_thread\u001b[49m\u001b[43m(\u001b[49m\u001b[43mdll_addr\u001b[49m\u001b[43m \u001b[49m\u001b[38;5;241;43m+\u001b[39;49m\u001b[43m \u001b[49m\u001b[43mfunction_offset\u001b[49m\u001b[43m,\u001b[49m\u001b[43m \u001b[49m\u001b[43margs\u001b[49m\u001b[43m)\u001b[49m\n",
      "File \u001b[1;32m~\\Documents\\LethalAI\\injector.py:107\u001b[0m, in \u001b[0;36mInjector.read_remote_thread\u001b[1;34m(self, function_addr, args)\u001b[0m\n\u001b[0;32m    105\u001b[0m \u001b[38;5;28;01mdef\u001b[39;00m \u001b[38;5;21mread_remote_thread\u001b[39m(\u001b[38;5;28mself\u001b[39m, function_addr, args):\n\u001b[0;32m    106\u001b[0m     dll_addr \u001b[38;5;241m=\u001b[39m c_long(\u001b[38;5;241m0\u001b[39m)\n\u001b[1;32m--> 107\u001b[0m     args_addr \u001b[38;5;241m=\u001b[39m \u001b[38;5;28;43mself\u001b[39;49m\u001b[38;5;241;43m.\u001b[39;49m\u001b[43malloc_remote\u001b[49m\u001b[43m(\u001b[49m\u001b[43margs\u001b[49m\u001b[43m,\u001b[49m\u001b[43m \u001b[49m\u001b[38;5;28;43mlen\u001b[39;49m\u001b[43m(\u001b[49m\u001b[43margs\u001b[49m\u001b[43m)\u001b[49m\u001b[43m)\u001b[49m\n\u001b[0;32m    108\u001b[0m     thread \u001b[38;5;241m=\u001b[39m \u001b[38;5;28mself\u001b[39m\u001b[38;5;241m.\u001b[39mkernel32\u001b[38;5;241m.\u001b[39mCreateRemoteThread(\u001b[38;5;28mself\u001b[39m\u001b[38;5;241m.\u001b[39mhandle, \u001b[38;5;28;01mNone\u001b[39;00m, \u001b[38;5;28;01mNone\u001b[39;00m, c_long(function_addr),\n\u001b[0;32m    109\u001b[0m                                               c_long(args_addr), \u001b[38;5;28;01mNone\u001b[39;00m, \u001b[38;5;28;01mNone\u001b[39;00m)\n\u001b[0;32m    110\u001b[0m     \u001b[38;5;28;01mif\u001b[39;00m \u001b[38;5;129;01mnot\u001b[39;00m thread:\n",
      "File \u001b[1;32m~\\Documents\\LethalAI\\injector.py:51\u001b[0m, in \u001b[0;36mInjector.alloc_remote\u001b[1;34m(self, buffer, size)\u001b[0m\n\u001b[0;32m     48\u001b[0m alloc \u001b[38;5;241m=\u001b[39m \u001b[38;5;28mself\u001b[39m\u001b[38;5;241m.\u001b[39mkernel32\u001b[38;5;241m.\u001b[39mVirtualAllocEx(\u001b[38;5;28mself\u001b[39m\u001b[38;5;241m.\u001b[39mhandle, \u001b[38;5;28;01mNone\u001b[39;00m, c_int(size),\n\u001b[0;32m     49\u001b[0m                                      \u001b[38;5;28mself\u001b[39m\u001b[38;5;241m.\u001b[39mMEM_CREATE, \u001b[38;5;28mself\u001b[39m\u001b[38;5;241m.\u001b[39mPAGE_EXECUTE_READWRITE)\n\u001b[0;32m     50\u001b[0m \u001b[38;5;28;01mif\u001b[39;00m \u001b[38;5;129;01mnot\u001b[39;00m alloc:\n\u001b[1;32m---> 51\u001b[0m     \u001b[38;5;28;01mraise\u001b[39;00m WinError()\n\u001b[0;32m     52\u001b[0m \u001b[38;5;28mself\u001b[39m\u001b[38;5;241m.\u001b[39mwrite_memory(alloc, buffer)\n\u001b[0;32m     53\u001b[0m \u001b[38;5;28;01mreturn\u001b[39;00m alloc\n",
      "\u001b[1;31mOSError\u001b[0m: [WinError 6] The handle is invalid."
     ]
    }
   ],
   "source": [
    "state = injector.call_from_injected(path_dll, dll_addr, \"ExportStep\", struct.pack(\"I290ff?\", 6, *([0.0] * 290), 0.0, False))\n",
    "print(struct.unpack(\"I290ff?\", state))"
   ]
  },
  {
   "cell_type": "code",
   "execution_count": null,
   "id": "8e1c8940",
   "metadata": {},
   "outputs": [],
   "source": []
  }
 ],
 "metadata": {
  "kernelspec": {
   "display_name": "Python 3 (ipykernel)",
   "language": "python",
   "name": "python3"
  },
  "language_info": {
   "codemirror_mode": {
    "name": "ipython",
    "version": 3
   },
   "file_extension": ".py",
   "mimetype": "text/x-python",
   "name": "python",
   "nbconvert_exporter": "python",
   "pygments_lexer": "ipython3",
   "version": "3.8.6"
  }
 },
 "nbformat": 4,
 "nbformat_minor": 5
}
